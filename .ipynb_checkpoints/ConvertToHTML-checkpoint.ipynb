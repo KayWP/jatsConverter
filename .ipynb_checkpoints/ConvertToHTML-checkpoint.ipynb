{
 "cells": [
  {
   "cell_type": "code",
   "execution_count": 1,
   "id": "76e5da3e",
   "metadata": {},
   "outputs": [],
   "source": [
    "import re\n",
    "import xml.etree.ElementTree as ET\n",
    "from lxml import etree\n",
    "import sys\n",
    "\n",
    "import Converter"
   ]
  },
  {
   "cell_type": "code",
   "execution_count": 8,
   "id": "17f8b29c",
   "metadata": {},
   "outputs": [],
   "source": [
    "def main():\n",
    "    reference_style = 'a'\n",
    "    style_file = 'ConversionHTML.xslt'\n",
    "\n",
    "    try:\n",
    "        input_file = sys.argv[1]\n",
    "    except IndexError:\n",
    "        print('Please input the input file as the first command line variable')\n",
    "        return\n",
    "    \n",
    "    if len(sys.argv) > 2:\n",
    "        style_file = sys.argv[2]\n",
    "\n",
    "    if len(sys.argv) > 3:\n",
    "        reference_style = sys.argv[3]\n",
    "        if reference_style == 'ref' or reference_style == 'fn':\n",
    "            print(f'Using specific reference style {reference_style}')\n",
    "        else:\n",
    "            print(f'{reference_style} is not a supported value, using automatic instead')\n",
    "            reference_style = 'a'\n",
    "    else:\n",
    "        print('Using automatic reference style detection')\n",
    "\n",
    "    print(f'Input file: {input_file}')\n",
    "    print(f'Style file: {style_file}')\n",
    "    print(f'Reference style: {reference_style}')\n",
    "    \n",
    "    file_without_front = Converter.split_title_from_body(input_file) #split the front, so we can add the title info in the replace_title function\n",
    "    markdown_file = Converter.apply_xslt(file_without_front, style_file)\n",
    "    title = Converter.gen_title_bmgn(input_file) #create a title from the XML\n",
    "    \n",
    "    if reference_style == 'a':\n",
    "        if Converter.contains_tag(input_file, 'xref', 'bibr'):\n",
    "            reference_style = 'ref'\n",
    "            print('detected ref')\n",
    "            \n",
    "        elif Converter.contains_tag(input_file, 'xref', 'fn'):\n",
    "            reference_style = 'fn'\n",
    "            print('detected fn')\n",
    "        \n",
    "    if reference_style == 'fn':\n",
    "        markdown_file = Converter.add_footnotes_bottom(markdown_file, input_file)\n",
    "        markdown_file = Converter.add_fn(markdown_file, input_file)\n",
    "        \n",
    "    elif reference_style == 'ref':       \n",
    "        #replace tables here\n",
    "        markdown_file = Converter.add_references_bottom(markdown_file, input_file)\n",
    "        markdown_file = Converter.add_ref(markdown_file)\n",
    "        \n",
    "    final_product = title + '\\n' + markdown_file #merge the generated title with the process front-free file\n",
    "    \n",
    "    with open('html.txt', 'w', encoding='utf-8') as final_file:\n",
    "        final_file.write(final_product)"
   ]
  },
  {
   "cell_type": "code",
   "execution_count": 3,
   "id": "acabc993",
   "metadata": {},
   "outputs": [
    {
     "name": "stdout",
     "output_type": "stream",
     "text": [
      "using automatic reference style detection\n"
     ]
    },
    {
     "ename": "FileNotFoundError",
     "evalue": "[Errno 2] No such file or directory: '-f'",
     "output_type": "error",
     "traceback": [
      "\u001b[1;31m---------------------------------------------------------------------------\u001b[0m",
      "\u001b[1;31mFileNotFoundError\u001b[0m                         Traceback (most recent call last)",
      "Cell \u001b[1;32mIn[3], line 2\u001b[0m\n\u001b[0;32m      1\u001b[0m \u001b[38;5;28;01mif\u001b[39;00m \u001b[38;5;18m__name__\u001b[39m \u001b[38;5;241m==\u001b[39m \u001b[38;5;124m'\u001b[39m\u001b[38;5;124m__main__\u001b[39m\u001b[38;5;124m'\u001b[39m:\n\u001b[1;32m----> 2\u001b[0m     \u001b[43mmain\u001b[49m\u001b[43m(\u001b[49m\u001b[43m)\u001b[49m\n",
      "Cell \u001b[1;32mIn[2], line 25\u001b[0m, in \u001b[0;36mmain\u001b[1;34m()\u001b[0m\n\u001b[0;32m     22\u001b[0m     \u001b[38;5;28mprint\u001b[39m(\u001b[38;5;124mf\u001b[39m\u001b[38;5;124m'\u001b[39m\u001b[38;5;124musing automatic reference style detection\u001b[39m\u001b[38;5;124m'\u001b[39m)\n\u001b[0;32m     23\u001b[0m     \u001b[38;5;28;01mpass\u001b[39;00m\n\u001b[1;32m---> 25\u001b[0m file_without_front \u001b[38;5;241m=\u001b[39m \u001b[43mConverter\u001b[49m\u001b[38;5;241;43m.\u001b[39;49m\u001b[43msplit_title_from_body\u001b[49m\u001b[43m(\u001b[49m\u001b[43minput_file\u001b[49m\u001b[43m)\u001b[49m \u001b[38;5;66;03m#split the front, so we can add the title info in the replace_title function\u001b[39;00m\n\u001b[0;32m     26\u001b[0m markdown_file \u001b[38;5;241m=\u001b[39m Converter\u001b[38;5;241m.\u001b[39mapply_xslt(file_without_front, style_file)\n\u001b[0;32m     28\u001b[0m \u001b[38;5;28;01mif\u001b[39;00m reference_style \u001b[38;5;241m==\u001b[39m \u001b[38;5;124m'\u001b[39m\u001b[38;5;124ma\u001b[39m\u001b[38;5;124m'\u001b[39m:\n",
      "File \u001b[1;32m~\\GitHub\\jatsConverter\\Converter.py:45\u001b[0m, in \u001b[0;36msplit_title_from_body\u001b[1;34m(xml)\u001b[0m\n\u001b[0;32m     43\u001b[0m \u001b[38;5;28;01mdef\u001b[39;00m \u001b[38;5;21msplit_title_from_body\u001b[39m(xml):\n\u001b[0;32m     44\u001b[0m     \u001b[38;5;66;03m#takes an xml file, reads it, returns an lxml.etree._ElementTree object without the 'front'\u001b[39;00m\n\u001b[1;32m---> 45\u001b[0m     tree \u001b[38;5;241m=\u001b[39m \u001b[43mET\u001b[49m\u001b[38;5;241;43m.\u001b[39;49m\u001b[43mparse\u001b[49m\u001b[43m(\u001b[49m\u001b[43mxml\u001b[49m\u001b[43m)\u001b[49m\n\u001b[0;32m     46\u001b[0m     tree \u001b[38;5;241m=\u001b[39m tree\u001b[38;5;241m.\u001b[39mgetroot()\n\u001b[0;32m     47\u001b[0m     tree\u001b[38;5;241m.\u001b[39mremove(tree\u001b[38;5;241m.\u001b[39mfind(\u001b[38;5;124m'\u001b[39m\u001b[38;5;124mfront\u001b[39m\u001b[38;5;124m'\u001b[39m))\n",
      "File \u001b[1;32m~\\AppData\\Local\\anaconda3\\lib\\xml\\etree\\ElementTree.py:1222\u001b[0m, in \u001b[0;36mparse\u001b[1;34m(source, parser)\u001b[0m\n\u001b[0;32m   1213\u001b[0m \u001b[38;5;124;03m\"\"\"Parse XML document into element tree.\u001b[39;00m\n\u001b[0;32m   1214\u001b[0m \n\u001b[0;32m   1215\u001b[0m \u001b[38;5;124;03m*source* is a filename or file object containing XML data,\u001b[39;00m\n\u001b[1;32m   (...)\u001b[0m\n\u001b[0;32m   1219\u001b[0m \n\u001b[0;32m   1220\u001b[0m \u001b[38;5;124;03m\"\"\"\u001b[39;00m\n\u001b[0;32m   1221\u001b[0m tree \u001b[38;5;241m=\u001b[39m ElementTree()\n\u001b[1;32m-> 1222\u001b[0m \u001b[43mtree\u001b[49m\u001b[38;5;241;43m.\u001b[39;49m\u001b[43mparse\u001b[49m\u001b[43m(\u001b[49m\u001b[43msource\u001b[49m\u001b[43m,\u001b[49m\u001b[43m \u001b[49m\u001b[43mparser\u001b[49m\u001b[43m)\u001b[49m\n\u001b[0;32m   1223\u001b[0m \u001b[38;5;28;01mreturn\u001b[39;00m tree\n",
      "File \u001b[1;32m~\\AppData\\Local\\anaconda3\\lib\\xml\\etree\\ElementTree.py:569\u001b[0m, in \u001b[0;36mElementTree.parse\u001b[1;34m(self, source, parser)\u001b[0m\n\u001b[0;32m    567\u001b[0m close_source \u001b[38;5;241m=\u001b[39m \u001b[38;5;28;01mFalse\u001b[39;00m\n\u001b[0;32m    568\u001b[0m \u001b[38;5;28;01mif\u001b[39;00m \u001b[38;5;129;01mnot\u001b[39;00m \u001b[38;5;28mhasattr\u001b[39m(source, \u001b[38;5;124m\"\u001b[39m\u001b[38;5;124mread\u001b[39m\u001b[38;5;124m\"\u001b[39m):\n\u001b[1;32m--> 569\u001b[0m     source \u001b[38;5;241m=\u001b[39m \u001b[38;5;28;43mopen\u001b[39;49m\u001b[43m(\u001b[49m\u001b[43msource\u001b[49m\u001b[43m,\u001b[49m\u001b[43m \u001b[49m\u001b[38;5;124;43m\"\u001b[39;49m\u001b[38;5;124;43mrb\u001b[39;49m\u001b[38;5;124;43m\"\u001b[39;49m\u001b[43m)\u001b[49m\n\u001b[0;32m    570\u001b[0m     close_source \u001b[38;5;241m=\u001b[39m \u001b[38;5;28;01mTrue\u001b[39;00m\n\u001b[0;32m    571\u001b[0m \u001b[38;5;28;01mtry\u001b[39;00m:\n",
      "\u001b[1;31mFileNotFoundError\u001b[0m: [Errno 2] No such file or directory: '-f'"
     ]
    }
   ],
   "source": [
    "if __name__ == '__main__':\n",
    "    main()"
   ]
  },
  {
   "cell_type": "code",
   "execution_count": null,
   "id": "0639803e",
   "metadata": {},
   "outputs": [],
   "source": []
  }
 ],
 "metadata": {
  "kernelspec": {
   "display_name": "Python 3 (ipykernel)",
   "language": "python",
   "name": "python3"
  },
  "language_info": {
   "codemirror_mode": {
    "name": "ipython",
    "version": 3
   },
   "file_extension": ".py",
   "mimetype": "text/x-python",
   "name": "python",
   "nbconvert_exporter": "python",
   "pygments_lexer": "ipython3",
   "version": "3.10.9"
  }
 },
 "nbformat": 4,
 "nbformat_minor": 5
}
